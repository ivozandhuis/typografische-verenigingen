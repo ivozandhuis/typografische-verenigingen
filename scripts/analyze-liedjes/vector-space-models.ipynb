{
 "cells": [
  {
   "cell_type": "code",
   "execution_count": 1,
   "metadata": {},
   "outputs": [],
   "source": [
    "import os\n",
    "import nltk\n",
    "import nltk.tokenize\n",
    "import re\n",
    "import unidecode\n",
    "import collections\n",
    "import numpy as np\n",
    "import csv\n",
    "import matplotlib.pyplot as plt\n"
   ]
  },
  {
   "cell_type": "code",
   "execution_count": 2,
   "metadata": {},
   "outputs": [
    {
     "data": {
      "text/plain": [
       "True"
      ]
     },
     "execution_count": 2,
     "metadata": {},
     "output_type": "execute_result"
    }
   ],
   "source": [
    "nltk.download('punkt', quiet=True)"
   ]
  },
  {
   "cell_type": "code",
   "execution_count": 3,
   "metadata": {},
   "outputs": [],
   "source": [
    "n = 50 # Choose a number for a song to inspect."
   ]
  },
  {
   "cell_type": "code",
   "execution_count": 4,
   "metadata": {},
   "outputs": [],
   "source": [
    "def read_data(csvfile):\n",
    "\t# Result: list (= row) of lists, without header.\n",
    "\tdata = []\n",
    "\theaders = True\n",
    "\twith open(csvfile) as stream:\n",
    "\t\treader = csv.reader(stream, delimiter=',')\n",
    "\t\tfor row in reader:\n",
    "\t\t\tif not headers:\n",
    "\t\t\t\tdata.append(row)\n",
    "\n",
    "\t\t\theaders = False\n",
    "\n",
    "\treturn data"
   ]
  },
  {
   "cell_type": "code",
   "execution_count": 5,
   "metadata": {},
   "outputs": [
    {
     "name": "stdout",
     "output_type": "stream",
     "text": [
      "['https://zotero.org/groups/2707622/items/I664294A' 'album1856-51'\n",
      " 'Bij het standbeeld' \"Henri's drinklied\" '1856' 'H. Everts' 'tiel1852']\n"
     ]
    }
   ],
   "source": [
    "liedjesData = np.array(read_data('../../data/liedjes/liedjes.csv')) # create np.array to be able to order lexicographically\n",
    "liedjesData = liedjesData[liedjesData[:, 1].argsort()] # order lexicographically on identifier just like the textlist\n",
    "print(liedjesData[n])"
   ]
  },
  {
   "cell_type": "code",
   "execution_count": 6,
   "metadata": {},
   "outputs": [],
   "source": [
    "def getlistOfTexts(rootdir):\n",
    "    # input: directory with (subdirectory with) TXT-files to be handled\n",
    "\t# output: list of files lexicographically ordered on path-name\n",
    "\n",
    "    files_all = []\n",
    "    for subdir, dirs, files in os.walk(rootdir):\n",
    "        for file in files:\n",
    "            if not file.endswith('.txt'):\n",
    "                continue\n",
    "            fn = os.path.join(subdir, file)\n",
    "            files_all.append(fn)\n",
    "\n",
    "    files_all = sorted(files_all)\n",
    "    return files_all\n",
    "\n",
    "liedjesList = getlistOfTexts('../../data/liedjes')"
   ]
  },
  {
   "cell_type": "code",
   "execution_count": 7,
   "metadata": {},
   "outputs": [
    {
     "name": "stdout",
     "output_type": "stream",
     "text": [
      "../../data/liedjes/album1856/album1856-51.txt\n"
     ]
    }
   ],
   "source": [
    "print(liedjesList[n])"
   ]
  },
  {
   "cell_type": "code",
   "execution_count": 8,
   "metadata": {},
   "outputs": [],
   "source": [
    "def texts2list(listOfTexts):\n",
    "\t# input: list of files lexicographically ordered on path-name\n",
    "    # output: list of texts\n",
    "\n",
    "\ttexts = []\n",
    "\tfor file in listOfTexts:\n",
    "\t\twith open(file) as stream:\n",
    "\t\t\ttext = stream.read()\n",
    "\t\ttexts.append(text)\n",
    "\n",
    "\treturn texts\n",
    "\n",
    "liedjes = texts2list(liedjesList)"
   ]
  },
  {
   "cell_type": "code",
   "execution_count": 9,
   "metadata": {},
   "outputs": [
    {
     "name": "stdout",
     "output_type": "stream",
     "text": [
      "Bij het standbeeld.\n",
      "\n",
      "Broeders ! vrienden! kunstgenooten!\n",
      "Juicht bij 't opgerigte beeld ! \n",
      "Dat men heden zag ontblooten, \n",
      "En dat aller oogen streelt; \n",
      "Want de geest,\n",
      "Op dit feest, \n",
      "Van vereende Typographen, \n",
      "Die oud-Hollands glorie staven,\n",
      "Kan geen grooter vreugd geschiên, \n",
      "Nu zij COSTERS beeldtnis zien.\n",
      "Vader LOUWTJE was te vreden,\n",
      "Als hij kindren vrolijk zag ; \n",
      "Wij gaan hem nu tegentreden, \n",
      "Op deez' ware vreugde dag; \n",
      "En de bee,\n",
      "Voert men mee, \n",
      "Om gestaag aan 't feest te denken, \n",
      "Onze eerbied hem te schenken, \n",
      "Daar zijn kunst het daaglijks brood, \n",
      "Broeders ! aan ons allen bood. \n",
      "Juicht dus allen , kunstgenooten!\n",
      "Op deez' ware vreugde dag ; \n",
      "Wilt zijn naam op 't feest vergrooten , \n",
      "Dat gij heden vieren mag. \n",
      "U zij de Eer,\n",
      "Hemelheer! \n",
      "Schenkt, wij bidden 't U, den zegen, \n",
      "Geeft ons voorspoed, allerwegen,\n",
      "Leidt ons op een effen baan,\n",
      "Laat ons daarop voorwaarts gaan. \n",
      "\n"
     ]
    }
   ],
   "source": [
    "print(liedjes[n])"
   ]
  },
  {
   "cell_type": "code",
   "execution_count": 10,
   "metadata": {},
   "outputs": [],
   "source": [
    "def is_punctuation(string):\n",
    "\t# Result: A boolean for being a punctuation mark or not\n",
    "\treturn re.compile(r'[^\\w\\s]+$').match(string) is not None\n",
    "\n",
    "def remove_diacritics(string):\n",
    "\t# Result: A string without diacritics (accents)\n",
    "\treturn unidecode.unidecode(string)\n",
    "\n",
    "def preprocess_text(string):\n",
    "\t# Result: list of tokens in a string (= \"tokenized corpus\")\n",
    "\tstring = string.lower()\n",
    "\ttokens = nltk.tokenize.word_tokenize(string, language=\"dutch\")\n",
    "\ttokens = [token for token in tokens if not is_punctuation(token)]\n",
    "\ttokens = [remove_diacritics(token) for token in tokens]\n",
    "\n",
    "\treturn tokens\n",
    "\n",
    "tokenized_liedjes = [preprocess_text(liedje) for liedje in liedjes]"
   ]
  },
  {
   "cell_type": "code",
   "execution_count": 11,
   "metadata": {},
   "outputs": [
    {
     "name": "stdout",
     "output_type": "stream",
     "text": [
      "['bij', 'het', 'standbeeld', 'broeders', 'vrienden', 'kunstgenooten', 'juicht', 'bij', \"'t\", 'opgerigte', 'beeld', 'dat', 'men', 'heden', 'zag', 'ontblooten', 'en', 'dat', 'aller', 'oogen', 'streelt', 'want', 'de', 'geest', 'op', 'dit', 'feest', 'van', 'vereende', 'typographen', 'die', 'oud-hollands', 'glorie', 'staven', 'kan', 'geen', 'grooter', 'vreugd', 'geschien', 'nu', 'zij', 'costers', 'beeldtnis', 'zien', 'vader', 'louwtje', 'was', 'te', 'vreden', 'als', 'hij', 'kindren', 'vrolijk', 'zag', 'wij', 'gaan', 'hem', 'nu', 'tegentreden', 'op', 'deez', 'ware', 'vreugde', 'dag', 'en', 'de', 'bee', 'voert', 'men', 'mee', 'om', 'gestaag', 'aan', \"'t\", 'feest', 'te', 'denken', 'onze', 'eerbied', 'hem', 'te', 'schenken', 'daar', 'zijn', 'kunst', 'het', 'daaglijks', 'brood', 'broeders', 'aan', 'ons', 'allen', 'bood', 'juicht', 'dus', 'allen', 'kunstgenooten', 'op', 'deez', 'ware', 'vreugde', 'dag', 'wilt', 'zijn', 'naam', 'op', \"'t\", 'feest', 'vergrooten', 'dat', 'gij', 'heden', 'vieren', 'mag', 'u', 'zij', 'de', 'eer', 'hemelheer', 'schenkt', 'wij', 'bidden', \"'t\", 'u', 'den', 'zegen', 'geeft', 'ons', 'voorspoed', 'allerwegen', 'leidt', 'ons', 'op', 'een', 'effen', 'baan', 'laat', 'ons', 'daarop', 'voorwaarts', 'gaan']\n"
     ]
    }
   ],
   "source": [
    "print(tokenized_liedjes[n])"
   ]
  },
  {
   "cell_type": "code",
   "execution_count": 12,
   "metadata": {},
   "outputs": [],
   "source": [
    "def extract_vocabulary(tokenized_corpus, min_count=1, max_count=float('inf')):\n",
    "\t# Result: list of unique words derived from a list of lists of strings\n",
    "\tvocabulary = collections.Counter()\n",
    "\tfor document in tokenized_corpus:\n",
    "\t\tvocabulary.update(document)\n",
    "\tvocabulary = { \n",
    "\t\tword for word, count in vocabulary.items()\n",
    "\t\tif count >= min_count and count <= max_count\n",
    "\t}\n",
    "\n",
    "\treturn sorted(vocabulary)\n",
    "\n",
    "liedjesVocabulary = extract_vocabulary(tokenized_liedjes, min_count=2)"
   ]
  },
  {
   "cell_type": "code",
   "execution_count": 13,
   "metadata": {},
   "outputs": [],
   "source": [
    "def corpus2dtm(tokenized_corpus, vocabulary):\n",
    "\t# Result: Document Term Matrix: \n",
    "\t# rows being documents in tokenized_corpus, columns being the words in vocabulary, \n",
    "\t# values being the count of the word in the document\n",
    "\tdocument_term_matrix = []\n",
    "\tfor document in tokenized_corpus:\n",
    "\t\tdocument_counts = collections.Counter(document)\n",
    "\t\trow = [document_counts[word] for word in vocabulary]\n",
    "\t\tdocument_term_matrix.append(row)\n",
    "\n",
    "\treturn document_term_matrix\n",
    "\n",
    "dtm_liedjes = np.array(corpus2dtm(tokenized_liedjes, liedjesVocabulary))"
   ]
  },
  {
   "cell_type": "code",
   "execution_count": 14,
   "metadata": {},
   "outputs": [
    {
     "name": "stdout",
     "output_type": "stream",
     "text": [
      "'t 4\n",
      "aan 2\n",
      "allen 2\n",
      "aller 1\n",
      "allerwegen 1\n",
      "als 1\n",
      "baan 1\n",
      "bee 1\n",
      "beeld 1\n",
      "beeldtnis 1\n",
      "bidden 1\n",
      "bij 2\n",
      "bood 1\n",
      "broeders 2\n",
      "brood 1\n",
      "costers 1\n",
      "daaglijks 1\n",
      "daar 1\n",
      "daarop 1\n",
      "dag 2\n",
      "dat 3\n",
      "de 3\n",
      "deez 2\n",
      "den 1\n",
      "denken 1\n",
      "die 1\n",
      "dit 1\n",
      "dus 1\n",
      "een 1\n",
      "eer 1\n",
      "eerbied 1\n",
      "en 2\n",
      "feest 3\n",
      "gaan 2\n",
      "geeft 1\n",
      "geen 1\n",
      "geest 1\n",
      "geschien 1\n",
      "gestaag 1\n",
      "gij 1\n",
      "glorie 1\n",
      "grooter 1\n",
      "heden 2\n",
      "hem 2\n",
      "hemelheer 1\n",
      "het 2\n",
      "hij 1\n",
      "juicht 2\n",
      "kan 1\n",
      "kindren 1\n",
      "kunst 1\n",
      "kunstgenooten 2\n",
      "laat 1\n",
      "leidt 1\n",
      "louwtje 1\n",
      "mag 1\n",
      "mee 1\n",
      "men 2\n",
      "naam 1\n",
      "nu 2\n",
      "om 1\n",
      "ons 4\n",
      "onze 1\n",
      "oogen 1\n",
      "op 5\n",
      "schenken 1\n",
      "schenkt 1\n",
      "standbeeld 1\n",
      "staven 1\n",
      "streelt 1\n",
      "te 3\n",
      "typographen 1\n",
      "u 2\n",
      "vader 1\n",
      "van 1\n",
      "vereende 1\n",
      "vergrooten 1\n",
      "vieren 1\n",
      "voert 1\n",
      "voorspoed 1\n",
      "voorwaarts 1\n",
      "vreden 1\n",
      "vreugd 1\n",
      "vreugde 2\n",
      "vrienden 1\n",
      "vrolijk 1\n",
      "want 1\n",
      "ware 2\n",
      "was 1\n",
      "wij 2\n",
      "wilt 1\n",
      "zag 2\n",
      "zegen 1\n",
      "zien 1\n",
      "zij 2\n",
      "zijn 2\n"
     ]
    }
   ],
   "source": [
    "for i in range(len(dtm_liedjes[n])):\n",
    "    if dtm_liedjes[n][i] > 0:\n",
    "        print(liedjesVocabulary[i],dtm_liedjes[n][i])"
   ]
  },
  {
   "cell_type": "code",
   "execution_count": 15,
   "metadata": {},
   "outputs": [],
   "source": [
    "document_distance_matrix = []\n",
    "all_values = []\n",
    "for i in range(len(liedjesList)):\n",
    "    a = dtm_liedjes[i]\n",
    "    row = []\n",
    "    for j in range(len(liedjesList)):\n",
    "        b = dtm_liedjes[j]\n",
    "        cos_sim = np.dot(a, b)/(np.linalg.norm(a)*np.linalg.norm(b))\n",
    "        row.append(cos_sim)\n",
    "        if cos_sim < 1:\n",
    "            all_values.append(cos_sim)\n",
    "    document_distance_matrix.append(row)\n"
   ]
  },
  {
   "cell_type": "code",
   "execution_count": 16,
   "metadata": {},
   "outputs": [
    {
     "data": {
      "image/png": "[encoded data removed]",
      "text/plain": [
       "<Figure size 432x288 with 1 Axes>"
      ]
     },
     "metadata": {
      "needs_background": "light"
     },
     "output_type": "display_data"
    }
   ],
   "source": [
    "plt.hist(all_values, bins = 100)\n",
    "plt.show()"
   ]
  },
  {
   "cell_type": "code",
   "execution_count": 17,
   "metadata": {},
   "outputs": [
    {
     "name": "stdout",
     "output_type": "stream",
     "text": [
      "0.967424809912295\n",
      "['https://zotero.org/groups/2707622/items/I664294A' 'album1856-07'\n",
      " 'TOT COSTERS EER' 'Wien Neerlands bloed' '1856' 'J.P. Bladergroen'\n",
      " 'rotterdam1849']\n",
      "['https://zotero.org/groups/2707622/items/F6DWAKEH'\n",
      " 'middelburg1847-feestbundel1864-30b' 'Slotzang' 'Wien Neerlands bloed'\n",
      " '1854' '' 'middelburg1847']\n",
      "------------\n",
      "0.9798918252387112\n",
      "['https://zotero.org/groups/2707622/items/VL4IRLV2'\n",
      " 'amsterdam1847-reglement1848-03' '' '' '1848' '' 'amsterdam1847']\n",
      "['' 'haarlem1851-feestliederen1860-06' 'Vriendschap'\n",
      " 'De vrolijke Visscher' '1860' 'W.' 'haarlem1851']\n",
      "------------\n",
      "0.9316934293416761\n",
      "['' 'amsterdam1849-feestbundel1851-05' 'De Medailles'\n",
      " 'Marchand de parapluies' '1851' '' 'amsterdam1849']\n",
      "['' 'amsterdam1849-feestliederen1852-13'\n",
      " 'Lied op het vereeren der medailles' 'Marchand de parapluies' '1852'\n",
      " 'J. Buhling' 'amsterdam1849']\n",
      "------------\n",
      "0.9316934293416761\n",
      "['' 'amsterdam1849-feestliederen1852-13'\n",
      " 'Lied op het vereeren der medailles' 'Marchand de parapluies' '1852'\n",
      " 'J. Buhling' 'amsterdam1849']\n",
      "['' 'amsterdam1849-feestbundel1851-05' 'De Medailles'\n",
      " 'Marchand de parapluies' '1851' '' 'amsterdam1849']\n",
      "------------\n",
      "0.9696074074417983\n",
      "['' 'haarlem1851-feestliederen1860-04' 'Coster’s Uitvinding'\n",
      " \"Wie praalt aan 't hoofd der Heldenstoet\" '1860' 'J.P. Nobels'\n",
      " 'haarlem1851']\n",
      "['' 'haarlem1851-iisgdossier-04' 'Coster’s uitvinding'\n",
      " \"Wie praalt aan 't hoofd der Heldenstoet\" '1853' '' 'haarlem1851']\n",
      "------------\n",
      "0.9798918252387112\n",
      "['' 'haarlem1851-feestliederen1860-06' 'Vriendschap'\n",
      " 'De vrolijke Visscher' '1860' 'W.' 'haarlem1851']\n",
      "['https://zotero.org/groups/2707622/items/VL4IRLV2'\n",
      " 'amsterdam1847-reglement1848-03' '' '' '1848' '' 'amsterdam1847']\n",
      "------------\n",
      "0.9696074074417983\n",
      "['' 'haarlem1851-iisgdossier-04' 'Coster’s uitvinding'\n",
      " \"Wie praalt aan 't hoofd der Heldenstoet\" '1853' '' 'haarlem1851']\n",
      "['' 'haarlem1851-feestliederen1860-04' 'Coster’s Uitvinding'\n",
      " \"Wie praalt aan 't hoofd der Heldenstoet\" '1860' 'J.P. Nobels'\n",
      " 'haarlem1851']\n",
      "------------\n",
      "0.967424809912295\n",
      "['https://zotero.org/groups/2707622/items/F6DWAKEH'\n",
      " 'middelburg1847-feestbundel1864-30b' 'Slotzang' 'Wien Neerlands bloed'\n",
      " '1854' '' 'middelburg1847']\n",
      "['https://zotero.org/groups/2707622/items/I664294A' 'album1856-07'\n",
      " 'TOT COSTERS EER' 'Wien Neerlands bloed' '1856' 'J.P. Bladergroen'\n",
      " 'rotterdam1849']\n",
      "------------\n",
      "0.9270835663063058\n",
      "['' 'utrecht1851-feestbundel1855-04' 'Feestmarsch' '' '1855' ''\n",
      " 'utrecht1851']\n",
      "['' 'utrecht1851-feestzangen1853-23' 'Feestmarsch' '' '1853' '' '']\n",
      "------------\n",
      "0.9547186805260418\n",
      "['' 'utrecht1851-feestbundel1855-04' 'Feestmarsch' '' '1855' ''\n",
      " 'utrecht1851']\n",
      "['' 'utrecht1851-feestzangen1856-12' 'Louwtjes vreugd'\n",
      " 'Er ging een pater langs de kant' '1856' 'A. van Zutphen' 'utrecht1851']\n",
      "------------\n",
      "0.9598156750287837\n",
      "['' 'utrecht1851-feestzangen1853-21' 'Leve de drukkunst' 'De Koning leef'\n",
      " '1853' 'B. Lageman' 'utrecht1851']\n",
      "['' 'utrecht1851-feestzangen1858-09' 'Hulde aan Coster'\n",
      " 'Uit de opera Martha, of Haarlems Huldezang' '1858' 'J.C. Paap'\n",
      " 'utrecht1851']\n",
      "------------\n",
      "0.9270835663063058\n",
      "['' 'utrecht1851-feestzangen1853-23' 'Feestmarsch' '' '1853' '' '']\n",
      "['' 'utrecht1851-feestbundel1855-04' 'Feestmarsch' '' '1855' ''\n",
      " 'utrecht1851']\n",
      "------------\n",
      "0.9547186805260418\n",
      "['' 'utrecht1851-feestzangen1856-12' 'Louwtjes vreugd'\n",
      " 'Er ging een pater langs de kant' '1856' 'A. van Zutphen' 'utrecht1851']\n",
      "['' 'utrecht1851-feestbundel1855-04' 'Feestmarsch' '' '1855' ''\n",
      " 'utrecht1851']\n",
      "------------\n",
      "0.9170205891916493\n",
      "['' 'utrecht1851-feestzangen1856-12' 'Louwtjes vreugd'\n",
      " 'Er ging een pater langs de kant' '1856' 'A. van Zutphen' 'utrecht1851']\n",
      "['' 'utrecht1851-feestzangen1858-02' 'Vrienden-zang' 'Wij zijn lustig'\n",
      " '1858' 'C. Mommaas' 'utrecht1851']\n",
      "------------\n",
      "0.9170205891916493\n",
      "['' 'utrecht1851-feestzangen1858-02' 'Vrienden-zang' 'Wij zijn lustig'\n",
      " '1858' 'C. Mommaas' 'utrecht1851']\n",
      "['' 'utrecht1851-feestzangen1856-12' 'Louwtjes vreugd'\n",
      " 'Er ging een pater langs de kant' '1856' 'A. van Zutphen' 'utrecht1851']\n",
      "------------\n",
      "0.9598156750287837\n",
      "['' 'utrecht1851-feestzangen1858-09' 'Hulde aan Coster'\n",
      " 'Uit de opera Martha, of Haarlems Huldezang' '1858' 'J.C. Paap'\n",
      " 'utrecht1851']\n",
      "['' 'utrecht1851-feestzangen1853-21' 'Leve de drukkunst' 'De Koning leef'\n",
      " '1853' 'B. Lageman' 'utrecht1851']\n",
      "------------\n"
     ]
    }
   ],
   "source": [
    "for i in range(len(liedjesList)):\n",
    "    for j in range(len(liedjesList)):\n",
    "        if document_distance_matrix[i][j] > 0.9 and document_distance_matrix[i][j] < 0.99:\n",
    "            print(document_distance_matrix[i][j])\n",
    "            print(liedjesData[i])\n",
    "            print(liedjesData[j])\n",
    "            print(\"------------\")\n"
   ]
  },
  {
   "cell_type": "code",
   "execution_count": 18,
   "metadata": {},
   "outputs": [
    {
     "name": "stdout",
     "output_type": "stream",
     "text": [
      "['https://zotero.org/groups/2707622/items/I664294A' 'album1856-51'\n",
      " 'Bij het standbeeld' \"Henri's drinklied\" '1856' 'H. Everts' 'tiel1852']\n",
      "['https://zotero.org/groups/2707622/items/F6DWAKEH'\n",
      " 'middelburg1847-feestbundel1864-19' 'Voorwaarts!'\n",
      " 'Kom mijn bruintje stap wat aan' '1852' '' 'middelburg1847']\n",
      "['https://zotero.org/groups/2707622/items/SGA2CMRR'\n",
      " 'utrecht1851-feestzangen1854-17' 'DE TYPOGRAPHISCHE LEDEN'\n",
      " 'Ge vergt me, dat ik zingen zal' '1854' 'J.H.C. Venman' 'utrecht1851']\n",
      "['https://zotero.org/groups/2707622/items/SGA2CMRR'\n",
      " 'utrecht1851-feestzangen1854-26' 'FEEST-MARSCH' 'Wij zijn lustig' '1854'\n",
      " 'P.A. van Doorn' 'utrecht1851']\n",
      "['https://zotero.org/groups/2707622/items/SGA2CMRR'\n",
      " 'utrecht1851-feestzangen1854-27' 'FEEST-MARSCH'\n",
      " 'Mijnheer Gordon is een brave kapitein' '1854' 'J.H.C. Venman'\n",
      " 'utrecht1851']\n",
      "['' 'utrecht1851-feestzangen1858-16' 'Vreugdezang' 'Trien, Trien' '1853'\n",
      " 'P.G. van de Kamp' 'utrecht1851']\n"
     ]
    }
   ],
   "source": [
    "for i in range(len(liedjesList)):\n",
    "    if document_distance_matrix[n][i] > 0.5:\n",
    "        print(liedjesData[i])"
   ]
  }
 ],
 "metadata": {
  "kernelspec": {
   "display_name": "Python 3.6.9 64-bit",
   "language": "python",
   "name": "python3"
  },
  "language_info": {
   "codemirror_mode": {
    "name": "ipython",
    "version": 3
   },
   "file_extension": ".py",
   "mimetype": "text/x-python",
   "name": "python",
   "nbconvert_exporter": "python",
   "pygments_lexer": "ipython3",
   "version": "3.6.9"
  },
  "orig_nbformat": 4,
  "vscode": {
   "interpreter": {
    "hash": "31f2aee4e71d21fbe5cf8b01ff0e069b9275f58929596ceb00d14d90e3e16cd6"
   }
  }
 },
 "nbformat": 4,
 "nbformat_minor": 2
}
