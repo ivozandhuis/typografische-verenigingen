{
 "cells": [
  {
   "cell_type": "code",
   "execution_count": 161,
   "metadata": {},
   "outputs": [],
   "source": [
    "import os\n",
    "import spacy\n",
    "import nltk\n",
    "import nltk.tokenize\n",
    "import re\n",
    "import unidecode\n",
    "import collections\n",
    "import numpy as np\n",
    "import csv\n",
    "import matplotlib.pyplot as plt\n"
   ]
  },
  {
   "cell_type": "code",
   "execution_count": 202,
   "metadata": {},
   "outputs": [],
   "source": [
    "n = 317 # Choose a number for a song to inspect."
   ]
  },
  {
   "cell_type": "code",
   "execution_count": 163,
   "metadata": {},
   "outputs": [],
   "source": [
    "def read_data(csvfile):\n",
    "\t# Result: list (= row) of lists, without header.\n",
    "\tdata = []\n",
    "\theaders = True\n",
    "\twith open(csvfile) as stream:\n",
    "\t\treader = csv.reader(stream, delimiter=',')\n",
    "\t\tfor row in reader:\n",
    "\t\t\tif not headers:\n",
    "\t\t\t\tdata.append(row)\n",
    "\n",
    "\t\t\theaders = False\n",
    "\n",
    "\treturn data"
   ]
  },
  {
   "cell_type": "code",
   "execution_count": 192,
   "metadata": {},
   "outputs": [
    {
     "name": "stdout",
     "output_type": "stream",
     "text": [
      "['https://zotero.org/groups/2707622/items/SGA2CMRR'\n",
      " 'utrecht1851-feestzangen1854-15' 'VRIENDSCHAP' 'Io Vivat' '1854'\n",
      " 'B. Lageman' 'utrecht1851']\n"
     ]
    }
   ],
   "source": [
    "liedjesData = np.array(read_data('../../data/liedjes/liedjes.csv')) # create np.array to be able to order lexicographically\n",
    "liedjesData = liedjesData[liedjesData[:, 1].argsort()] # order lexicographically on identifier just like the textlist\n",
    "print(liedjesData[n])"
   ]
  },
  {
   "cell_type": "code",
   "execution_count": 165,
   "metadata": {},
   "outputs": [],
   "source": [
    "def getlistOfTexts(rootdir):\n",
    "    # input: directory with (subdirectory with) TXT-files to be handled\n",
    "\t# output: list of files lexicographically ordered on path-name\n",
    "\n",
    "    files_all = []\n",
    "    for subdir, dirs, files in os.walk(rootdir):\n",
    "        for file in files:\n",
    "            if not file.endswith('.txt'):\n",
    "                continue\n",
    "            fn = os.path.join(subdir, file)\n",
    "            files_all.append(fn)\n",
    "\n",
    "    files_all = sorted(files_all)\n",
    "    return files_all\n",
    "\n",
    "liedjesList = getlistOfTexts('../../data/liedjes')"
   ]
  },
  {
   "cell_type": "code",
   "execution_count": 198,
   "metadata": {},
   "outputs": [
    {
     "name": "stdout",
     "output_type": "stream",
     "text": [
      "../../data/liedjes/utrecht1851-feestzangen1854/utrecht1851-feestzangen1854-14.txt\n"
     ]
    }
   ],
   "source": [
    "print(liedjesList[n])"
   ]
  },
  {
   "cell_type": "code",
   "execution_count": 167,
   "metadata": {},
   "outputs": [],
   "source": [
    "def texts2list(listOfTexts):\n",
    "\t# input: list of files lexicographically ordered on path-name\n",
    "    # output: list of texts\n",
    "\n",
    "\ttexts = []\n",
    "\tfor file in listOfTexts:\n",
    "\t\twith open(file) as stream:\n",
    "\t\t\ttext = stream.read()\n",
    "\t\ttexts.append(text)\n",
    "\n",
    "\treturn texts\n",
    "\n",
    "liedjes = texts2list(liedjesList)"
   ]
  },
  {
   "cell_type": "code",
   "execution_count": 203,
   "metadata": {},
   "outputs": [
    {
     "name": "stdout",
     "output_type": "stream",
     "text": [
      "Huldezang\n",
      "\n",
      "O, achtbaar Hoofd van deze stad !\n",
      "Beschermheer van deez’ Kring !\n",
      "Gun aan deez’ schaar vam vrienden, dat\n",
      "Zij U met lof bezing’:\n",
      "O, God! zie met een Vaderoog\n",
      "Op den Beschermer neêr;\n",
      "Ons hart klimt biddend naar omhoog :\n",
      "Verhoor die bede, Heer!\n",
      "\n",
      "Komt, feestgenooten! zingen wij\n",
      "Ter eer van elks Patroon ! \n",
      "Verheft uw lied, verheugd en blij:\n",
      "De dankbaarheid is schoon !\n",
      "Wij danken U, o edel tal!\n",
      "Voor 't goede aan ons verrigt;\n",
      "Ons hart blijv’, wat ook sta of vall’,\n",
      "Geheel aan U verpligt.\n",
      "\n",
      "Door dankbaarheid geheel ontgloeid,\n",
      "Verheft ons hart den zang\n",
      "Ter eer van U, die, onvermoeid\n",
      "Behartigd’ ons belang.\n",
      "Gods zegen blijv’ gestaâg U bij,\n",
      "O, VENMAN! op Uw baan!\n",
      "Neemt van deez’ blijde vriendenrei\n",
      "Den gullen danktoon aan.\n",
      "\n",
      "Voorstanders! blijft voor onzen kring,\n",
      "(Ook dit nog bidden wij,)\n",
      "De schoonste en rijkste zegening,\n",
      "Dan maakt Uw steun ons blij.\n",
      "Van onspoed vrij en ’s werelds zuur\n",
      "Snell’ steeds Uw leven voort;\n",
      "Uw’ harten word’ door ’t edel vuur\n",
      "Van menschenmin bekoord.\n",
      "\n"
     ]
    }
   ],
   "source": [
    "print(liedjes[n])"
   ]
  },
  {
   "cell_type": "code",
   "execution_count": 169,
   "metadata": {},
   "outputs": [],
   "source": [
    "def lemmatize(texts):   \n",
    "    # input: list of texts\n",
    "    # output: list of lemmatized texts. Lemmatization by spaCy.\n",
    "\n",
    "    nlp = spacy.load(\"nl_core_news_sm\") # create spaCy processor named 'nlp' based on small model for Dutch\n",
    "    nlp.Defaults.stop_words |= {\"deez\", \"zoo\", \"hoezee\"} # optionally: add stopwords to processor\n",
    "\n",
    "    result = []                                                         \n",
    "    for text in texts:                                                     \n",
    "\n",
    "        nlp.max_length = len(text)  \n",
    "        doc = nlp(text) # tokenize and annotate 'text' with processor named 'nlp'\n",
    "\n",
    "        new_text = []\n",
    "        for token in doc: \n",
    "            if token.is_alpha: # keep tokens with alphanumerical characters (so no numbers or punctuation)\n",
    "                if not token.is_stop: # remove stopwords\n",
    "                    new_text.append(token.lemma_) # get the word in the lemma and add it to the list of words\n",
    "\n",
    "        final = \" \".join(new_text) # transform list of words into a string concatenating all listitems\n",
    "        result.append(final) # add string to the list of lemmatized texts\n",
    "\n",
    "    return result\n"
   ]
  },
  {
   "cell_type": "code",
   "execution_count": 170,
   "metadata": {},
   "outputs": [],
   "source": [
    "lemmatized_liedjes = lemmatize(liedjes)"
   ]
  },
  {
   "cell_type": "code",
   "execution_count": 195,
   "metadata": {},
   "outputs": [
    {
     "name": "stdout",
     "output_type": "stream",
     "text": [
      "nut genoegen derde jaar weêr vrolijk elkaêr kopperfeest goddank verbond stand houden dee staan nut bevatten nut genieten dees vriendenrij lijden komen ziekengeld regten prijs stellen gevoel heerlijk doel laten zóó voorwaarts gaan inslaan baan ieders nut genoegen kosterschaar klinken feestbokaal zaal genoegen zang muzijk wijn kopperfeest komen broeder glas vatten gevuld druivennat drinken zaâm koster naam welaan welaan welaan moog gelukkig gaan kring o god bidden behoed dee vriendenrij jaar jaar dank elkaêr\n"
     ]
    }
   ],
   "source": [
    "print(lemmatized_liedjes[n])"
   ]
  },
  {
   "cell_type": "code",
   "execution_count": 172,
   "metadata": {},
   "outputs": [],
   "source": [
    "def is_punctuation(string):\n",
    "\t# Result: A boolean for being a punctuation mark or not\n",
    "\treturn re.compile(r'[^\\w\\s]+$').match(string) is not None\n",
    "\n",
    "def remove_diacritics(string):\n",
    "\t# Result: A string without diacritics (accents)\n",
    "\treturn unidecode.unidecode(string)\n",
    "\n",
    "def preprocess_text(string):\n",
    "\t# Result: list of tokens in a string (= \"tokenized corpus\")\n",
    "\tstring = string.lower()\n",
    "\ttokens = nltk.tokenize.word_tokenize(string, language=\"dutch\")\n",
    "\ttokens = [token for token in tokens if not is_punctuation(token)]\n",
    "\ttokens = [remove_diacritics(token) for token in tokens]\n",
    "\n",
    "\treturn tokens\n",
    "\n",
    "tokenized_liedjes = [preprocess_text(liedje) for liedje in lemmatized_liedjes]"
   ]
  },
  {
   "cell_type": "code",
   "execution_count": 196,
   "metadata": {},
   "outputs": [
    {
     "name": "stdout",
     "output_type": "stream",
     "text": [
      "['nut', 'genoegen', 'derde', 'jaar', 'weer', 'vrolijk', 'elkaer', 'kopperfeest', 'goddank', 'verbond', 'stand', 'houden', 'dee', 'staan', 'nut', 'bevatten', 'nut', 'genieten', 'dees', 'vriendenrij', 'lijden', 'komen', 'ziekengeld', 'regten', 'prijs', 'stellen', 'gevoel', 'heerlijk', 'doel', 'laten', 'zoo', 'voorwaarts', 'gaan', 'inslaan', 'baan', 'ieders', 'nut', 'genoegen', 'kosterschaar', 'klinken', 'feestbokaal', 'zaal', 'genoegen', 'zang', 'muzijk', 'wijn', 'kopperfeest', 'komen', 'broeder', 'glas', 'vatten', 'gevuld', 'druivennat', 'drinken', 'zaam', 'coster', 'naam', 'welaan', 'welaan', 'welaan', 'moog', 'gelukkig', 'gaan', 'kring', 'o', 'god', 'bidden', 'behoed', 'dee', 'vriendenrij', 'jaar', 'jaar', 'dank', 'elkaer']\n"
     ]
    }
   ],
   "source": [
    "print(tokenized_liedjes[n])"
   ]
  },
  {
   "cell_type": "code",
   "execution_count": 174,
   "metadata": {},
   "outputs": [],
   "source": [
    "def replace(listOfWords, replaceWords):\n",
    "    i = 0\n",
    "    for word in listOfWords:\n",
    "        if word in replaceWords:\n",
    "            listOfWords[i] = replaceWords[word]\n",
    "        i = i + 1\n",
    "\n",
    "    return listOfWords\n",
    "\n",
    "def remove(listOfWords, removeWords):\n",
    "    i = 0\n",
    "    for word in listOfWords:\n",
    "        if word in removeWords:\n",
    "            listOfWords.pop(i)\n",
    "        i = i + 1\n",
    "\n",
    "    return listOfWords"
   ]
  },
  {
   "cell_type": "code",
   "execution_count": 197,
   "metadata": {},
   "outputs": [
    {
     "name": "stdout",
     "output_type": "stream",
     "text": [
      "['nut', 'genoegen', 'derde', 'jaar', 'weer', 'vrolijk', 'elkaer', 'kopperfeest', 'goddank', 'verbond', 'stand', 'houden', 'dee', 'staan', 'nut', 'bevatten', 'nut', 'genieten', 'dees', 'vriendenrij', 'lijden', 'komen', 'ziekengeld', 'regten', 'prijs', 'stellen', 'gevoel', 'heerlijk', 'doel', 'laten', 'zoo', 'voorwaarts', 'gaan', 'inslaan', 'baan', 'ieders', 'nut', 'genoegen', 'kosterschaar', 'klinken', 'feestbokaal', 'zaal', 'genoegen', 'zang', 'muzijk', 'wijn', 'kopperfeest', 'komen', 'broeder', 'glas', 'vatten', 'gevuld', 'druivennat', 'drinken', 'zaam', 'coster', 'naam', 'welaan', 'welaan', 'welaan', 'moog', 'gelukkig', 'gaan', 'kring', 'o', 'god', 'bidden', 'behoed', 'dee', 'vriendenrij', 'jaar', 'jaar', 'dank', 'elkaer']\n"
     ]
    }
   ],
   "source": [
    "replaceDict = {\"koster\":\"coster\", \"costers\":\"coster\", \"kosters\":\"coster\", \"vreugd\":\"vreugde\"}\n",
    "removeList  = []\n",
    "\n",
    "processed_liedjes = []\n",
    "for liedje in tokenized_liedjes:\n",
    "    processed_liedje1 = replace(liedje, replaceDict)\n",
    "    processed_liedje2 = remove(processed_liedje1, removeList)\n",
    "    processed_liedjes.append(processed_liedje2)\n",
    "\n",
    "print(processed_liedjes[n])"
   ]
  },
  {
   "cell_type": "code",
   "execution_count": 176,
   "metadata": {},
   "outputs": [],
   "source": [
    "def extract_vocabulary(tokenized_corpus, min_count=1, max_count=float('inf')):\n",
    "\t# Result: list of unique words derived from a list of lists of strings\n",
    "\tvocabulary = collections.Counter()\n",
    "\tfor document in tokenized_corpus:\n",
    "\t\tvocabulary.update(document)\n",
    "\tvocabulary = { \n",
    "\t\tword for word, count in vocabulary.items()\n",
    "\t\tif count >= min_count and count <= max_count\n",
    "\t}\n",
    "\n",
    "\treturn sorted(vocabulary)\n",
    "\n",
    "liedjesVocabulary = extract_vocabulary(processed_liedjes, min_count=1)\n",
    "# liedjesVocabulary"
   ]
  },
  {
   "cell_type": "code",
   "execution_count": 177,
   "metadata": {},
   "outputs": [],
   "source": [
    "topicList = [['jenever',  'alcohol',  'drank',  'spraakwater',  'aperitief',  'biertje',  'bier',  'brouwsel',  'gerstenat',  'donker_bier',  'stout',  'stout',  'vatbier',  'pils',  'pilsener',  'bokbier',  'pils',  'pilsener',  'mede',  'appelwijn',  'cider',  'eigenstook',  'koemis',  'likeur',  'absint',  'amaretto',  'benedictijner',  'chartreuse',  'Drambuie',  'drank',  'arak',  'aqua_vitae',  'brandewijn',  'brandy',  'appeldrank',  'appelbrandewijn',  'Calvados',  'cognac',  'grappa',  'vuur_water',  'wie_verre_reizen_doet,_kan_veel_verhalen',  'gin',  'ouzo',  'rum',  'grog',  'toddy',  'Schnaps',  'tequila',  'vodka',  'wodka',  'whisky',  'Drambuie',  'cocktail',  'bloody_mary',  'Martini',  'martini',  'gin-tonic',  'grog',  'toddy',  'punch',  'Advocaat',  'advokaat',  'bocht',  '-halve',  'druivenat',  'druivennat',  'wijn',  'roos',  'Bourgondië',  'dessertwijn',  'Marsala',  'porto',  'sherry',  'xeres',  'xereswijn',  'gekruide_wijn',  'bocht',  'rode_wijn',  'schuimwijn',  'champagne',  'rassen',  'vermout',  'wijnjaar',  'wijnoogst',  'witte_wijn',  'Moezel',  'Moselle',  'rijnwijn',  'riesling',  'zak',  'Sauterne',  'drinkglas',  'glaasje',  'glas',  'bierglas',  'likeurglaasje',  'roemer',  'romer',  'wijnbeker',  'wijnroemer',  'borrelglas',  'jeneverglas',  'borrel',  'bel',  'fluit',  'beker',  'bak',  'kop',  'tas',  'beker',  'kelk',  'miskelk',  'koffiekop',  'koffiekopje',  'mokkakopje',  'espressokopje',  'kylix',  'theekopje',  'drinken',  'oplebberen',  'oplikken',  'opslobberen',  'opslorpen',  'opslurpen',  'aanzuigen',  'opzuigen',  'zuigen',  'aanstoten',  'klinken',  'proosten',  'toasten',  'toosten'], ['vriendenkring',  'samenleving',  'gilde',  'gezelschap',  'sociëteit',  'orde',  'club',  'vereniging',  'boekenclub',  'vrouwenclub',  'zusterschap',  'zeilvereniging',  'partner',  'lid',  'compagnon',  'medewerker',  'bepaling',  'aannemen',  'lid_maken_van',  'affiliëren',  'bondgenoot',  'bondgenote',  'vrind',  'compagnon',  'zakenvriend',  'vriend',  'vennoot',  'deelgenoot',  'compagnon',  'partner',  'mede-werker',  'gildebroeder',  'gildenbroeder',  'medewerker',  'vakbroeder',  'vakgenoot',  'collega',  'ambtgenoot',  'ambtsbroeder',  'ambtsgenoot',  'confrater',  'confrère',  'gildebroeder',  'gildenbroeder',  'medebroeder',  'vakbroeder',  'vakgenoot',  'lid',  'directielid',  'broer',  'broeder',  'vrijmetselaar',  'gevolmachtigde',  'commissaris',  'bestuurslid',  'commissielid',  'gemeenteraadslid',  'raadslid',  'stamgenoot',  'deelhebber',  'deelnemer',  'participant',  'genodigde',  'aanwezige',  'feestganger',  'feestvierder',  'bruidegom',  'deelgenoot',  'Pooler',  'makker',  'medespeler',  'ploegmaat',  'ploegmakker',  'teamgenoot',  'broederlijkheid',  'broederschap',  'gemeenschap',  'saamhorigheid',  'verbondenheid',  'kameraadschap',  'vriendschap',  'vriendschappelijkheid',  'vriendschapsband',  'vriendschapsbanden',  'kameraadschap'], ['drukkunst',  'boekdrukkunst',  'drukken',  'lithograferen',  'steendrukken',  'stencilen',  'drukker',  'typograaf',  'letterzetter',  'machinezetter',  'typograaf',  'zetter',  'binder',  'boekbinder',  'drukpers',  'pers',  'boekdrukkerij',  'drukkerij',  'drukpers'], ['beeld',  'beeldhouwwerk',  'sculptuur',  'borstbeeld',  'buste',  'camee',  'schriftteken',  'glief',  'mobiel',  'mobile',  'afgietsel',  'gietsel',  'replica',  'reliëf',  'standbeeld',  'beeld',  'Sfinx',  'sfinx',  'metaal',  'alkalimetaal',  'aluminium',  'americium',  'antimonium',  'antimoon',  'barium',  'bariumoxyde',  'berkelium',  'beryllium',  'astin',  'bismut',  'cadmium',  'calcium',  'californium',  'cerium',  'caesium',  'cesium',  'chromium',  'chroom',  'chromium',  'chroom',  'kobalt',  'koperbruin',  'koper',  'cirium',  'curium',  'dysprosium',  'einsteinium',  'erbium',  'europium',  'fermium',  'francium',  'gadolinium',  'gallium',  'hafnium',  'metal',  'zware_metalen',  'holmium',  'indium',  'iridium',  'strijkijzer',  'ijzer',  'goteling',  'gietijzer',  'smeedijzer',  'kunstsmeedwerk',  'lanthanium',  'lanthaan',  'ik_zoek_een_baan',  'lood',  'lithium',  'lutetium',  'magnesium',  'mangaan',  'kwik',  'kwikzilver',  'mercurius',  'molybdeen',  'neodymium',  'neodynium',  'neptunium',  'nikkel',  'niobium',  'niobium',  'goud',  'platina',  'witgoud',  'een_G',  'zilver',  'osmium',  'palladium',  'polonium',  'kalium',  'praseodymium',  'promethium',  'protactinium',  'radium',  'renium',  'rhenium',  'rhodium',  'rodium',  'rubidium',  'rutenium',  'ruthenium',  'samarium',  'scandium',  'natrium',  'strontium',  'tantaal',  'tantalium',  'technetium',  'terbium',  'tallium',  'thallium',  'thorium',  'thulium',  'blik',  'tin',  'titaan',  'titanium',  'wolfraam',  'wolframiet',  'uraan',  'uranium',  'vanadium',  'ytterbium',  'yttrium',  'zink',  'zirkonium',  'zirkoon',  'steen',  'deksteen',  'hoeksteen',  'zerk',  'grafsteen',  'maalsteen',  'molensteen',  'monoliet',  'plavuis',  'steen',  'stoeptegel',  'tegel',  'trottoirtegel',  'inst',  'kasseisteen',  'straatsteen',  'stoeprand',  'hardsteen',  'plavuis',  'steen',  'tegel',  'tichel',  'vloertegel',  'slijpsteen',  'wetsteen',  'slijpsteen',  'oliesteen'], ['licht',  'verlichting',  'wetenschap',  'duisternis',  'lichtstraal',  'wijsheid',  'vrijdom',  'vrijheid',  'mondigheid',  'onafhankelijkheid',  'gesloten_staatshuishouding',  'autarkie',  'zelfbeschikkingsrecht',  'zelfbestuur',  'zelfbeschikking',  'self-government',  'selfgovernment',  'zelfvertrouwen',  'zelfvoorziening',  'autarkie',  'vergunning',  'bandeloosheid',  'fakkel',  'flambouw',  'toorts',  'stralen',  'schijnen',  'branden',  'glimmen'], ['uitvinden',  'uitvinding',  'vinding',  'vondst',  'uitdenken',  'vinding',  'doorbraak',  'ontdekking',  'vondst'], ['Nederland',  'Holland',  'Nederlandsch',  'Hollandsch',  'Nederlands',  'Hollands',  'Neerlands',  '[[land]]_[[van]]_[[oorsprong]]',  'land_van_herkomst',  'geboortegrond',  'geboorteland',  'moederland',  'patria',  'thuisland',  'vaderland'], ['eerelid',  'eereleden',  'beschermheer',  'donateur',  'abonnee',  'geabonneerde',  'ondertekenaar',  'huurder',  'baas',  'patroon']]\n",
    "\n",
    "topicsVocabulary = []\n",
    "for topic in topicList:\n",
    "    topicsVocabulary = topicsVocabulary + topic\n",
    "\n",
    "preciseLiedjesVocabulary = list(set(liedjesVocabulary) & set(topicsVocabulary))\n",
    "# preciseLiedjesVocabulary"
   ]
  },
  {
   "cell_type": "code",
   "execution_count": 178,
   "metadata": {},
   "outputs": [],
   "source": [
    "def corpus2dtm(tokenized_corpus, vocabulary):\n",
    "\t# Result: Document Term Matrix: \n",
    "\t# rows being documents in tokenized_corpus, columns being the words in vocabulary, \n",
    "\t# values being the count of the word in the document\n",
    "\tdocument_term_matrix = []\n",
    "\tfor document in tokenized_corpus:\n",
    "\t\tdocument_counts = collections.Counter(document)\n",
    "\t\trow = [document_counts[word] for word in vocabulary]\n",
    "\t\tdocument_term_matrix.append(row)\n",
    "\n",
    "\treturn document_term_matrix\n",
    "\n",
    "dtm_liedjes = np.array(corpus2dtm(processed_liedjes, preciseLiedjesVocabulary))\n",
    "# dtm_liedjes"
   ]
  },
  {
   "cell_type": "code",
   "execution_count": 179,
   "metadata": {},
   "outputs": [
    {
     "name": "stdout",
     "output_type": "stream",
     "text": [
      "vinding 0\n",
      "broeder 0\n",
      "orde 0\n",
      "baas 0\n",
      "makker 0\n",
      "kop 0\n",
      "wetenschap 0\n",
      "drukkunst 0\n",
      "vriendschap 0\n",
      "wijn 0\n",
      "glas 0\n",
      "patroon 0\n",
      "pers 0\n",
      "drukker 0\n",
      "vriendschapsband 0\n",
      "onafhankelijkheid 0\n",
      "bier 0\n",
      "toasten 0\n",
      "eereleden 0\n",
      "schijnen 0\n",
      "beschermheer 0\n",
      "uitdenken 0\n",
      "steen 0\n",
      "glimmen 0\n",
      "stralen 0\n",
      "wijsheid 0\n",
      "beker 0\n",
      "zilver 0\n",
      "verlichting 0\n",
      "vrind 0\n",
      "roos 0\n",
      "zuigen 0\n",
      "kelk 0\n",
      "beeld 0\n",
      "donateur 0\n",
      "uitvinden 0\n",
      "fakkel 0\n",
      "boekdrukkunst 0\n",
      "vriend 0\n",
      "branden 0\n",
      "stout 0\n",
      "typograaf 0\n",
      "goud 0\n",
      "vaderland 1\n",
      "lid 0\n",
      "roemer 0\n",
      "binder 0\n",
      "zak 0\n",
      "zink 0\n",
      "gezelschap 0\n",
      "druivennat 0\n",
      "palladium 0\n",
      "klinken 0\n",
      "drinken 0\n",
      "vrijheid 0\n",
      "broederschap 0\n",
      "letterzetter 0\n",
      "blik 0\n",
      "standbeeld 0\n",
      "metaal 0\n",
      "drank 0\n",
      "drukkerij 0\n",
      "lichtstraal 0\n",
      "drukpers 0\n",
      "vriendenkring 0\n",
      "zetter 0\n",
      "geboortegrond 0\n",
      "uitvinding 0\n",
      "duisternis 0\n",
      "licht 0\n",
      "toorts 0\n",
      "drukken 0\n"
     ]
    }
   ],
   "source": [
    "# print vector of song $n\n",
    "for i in range(len(dtm_liedjes[n])):\n",
    "    print(preciseLiedjesVocabulary[i], dtm_liedjes[n][i])"
   ]
  },
  {
   "cell_type": "code",
   "execution_count": 180,
   "metadata": {},
   "outputs": [],
   "source": [
    "def topics2vectors(topicList, vocabulary):\n",
    "    result = []\n",
    "    for topic in topicList:\n",
    "        topicVector = []\n",
    "        for term in vocabulary:\n",
    "            if term in topic:\n",
    "                topicVector.append(1)\n",
    "            else:\n",
    "                topicVector.append(0)\n",
    "        result.append(topicVector)\n",
    "\n",
    "    return result\n",
    "\n",
    "topicVectors = np.array(topics2vectors(topicList, preciseLiedjesVocabulary))\n"
   ]
  },
  {
   "cell_type": "code",
   "execution_count": 181,
   "metadata": {},
   "outputs": [],
   "source": [
    "document_topic_distance_matrix = []\n",
    "all_values = []\n",
    "for i in range(len(liedjesList)):\n",
    "    a = dtm_liedjes[i]\n",
    "    row = []\n",
    "    for j in range(len(topicVectors)):\n",
    "        b = topicVectors[j]\n",
    "        if np.linalg.norm(a) > 0:\n",
    "            cos_sim = np.dot(a, b)/(np.linalg.norm(a)*np.linalg.norm(b))\n",
    "        else:\n",
    "            cos_sim = 0.0\n",
    "        row.append(cos_sim)\n",
    "        if cos_sim < 1:\n",
    "            all_values.append(cos_sim)\n",
    "    document_topic_distance_matrix.append(row)\n",
    "\n"
   ]
  },
  {
   "cell_type": "code",
   "execution_count": 204,
   "metadata": {},
   "outputs": [
    {
     "name": "stdout",
     "output_type": "stream",
     "text": [
      "---------\n",
      "topic:  0\n",
      "aantal terms vd topic : 132\n",
      "belangrijkste liedje  : 354\n",
      "afstand topic-liedje  : 0.5103103630798288\n",
      "vector topic-liedje   : [0.5103103630798288, 0.12309149097933275, 0.0, 0.0, 0.0, 0.0, 0.0, 0.0]\n",
      "---------\n",
      "topic:  1\n",
      "aantal terms vd topic : 85\n",
      "belangrijkste liedje  : 148\n",
      "afstand topic-liedje  : 0.6030226891555273\n",
      "vector topic-liedje   : [0.0, 0.6030226891555273, 0.0, 0.0, 0.0, 0.0, 0.0, 0.0]\n",
      "---------\n",
      "topic:  2\n",
      "aantal terms vd topic : 19\n",
      "belangrijkste liedje  : 318\n",
      "afstand topic-liedje  : 0.5853694070049636\n",
      "vector topic-liedje   : [0.1386750490563073, 0.08362420100070908, 0.5853694070049636, 0.0, 0.0, 0.1386750490563073, 0.0, 0.0]\n",
      "---------\n",
      "topic:  3\n",
      "aantal terms vd topic : 156\n",
      "belangrijkste liedje  : 49\n",
      "afstand topic-liedje  : 0.629940788348712\n",
      "vector topic-liedje   : [0.0, 0.0, 0.0, 0.629940788348712, 0.0, 0.0, 0.0, 0.0]\n",
      "---------\n",
      "topic:  4\n",
      "aantal terms vd topic : 29\n",
      "belangrijkste liedje  : 41\n",
      "afstand topic-liedje  : 0.46291004988627577\n",
      "vector topic-liedje   : [0.0, 0.0, 0.0, 0.0, 0.46291004988627577, 0.0, 0.0, 0.0]\n",
      "---------\n",
      "topic:  5\n",
      "aantal terms vd topic : 9\n",
      "belangrijkste liedje  : 200\n",
      "afstand topic-liedje  : 0.5\n",
      "vector topic-liedje   : [0.0, 0.15075567228888181, 0.15075567228888181, 0.0, 0.0, 0.5, 0.0, 0.0]\n",
      "---------\n",
      "topic:  6\n",
      "aantal terms vd topic : 15\n",
      "belangrijkste liedje  : 288\n",
      "afstand topic-liedje  : 0.7071067811865475\n",
      "vector topic-liedje   : [0.0, 0.0, 0.0, 0.0, 0.0, 0.0, 0.7071067811865475, 0.0]\n",
      "---------\n",
      "topic:  7\n",
      "aantal terms vd topic : 10\n",
      "belangrijkste liedje  : 317\n",
      "afstand topic-liedje  : 0.5163977794943222\n",
      "vector topic-liedje   : [0.0, 0.17407765595569785, 0.0, 0.0, 0.0, 0.0, 0.0, 0.5163977794943222]\n"
     ]
    }
   ],
   "source": [
    "liedjesListTopic = []\n",
    "for j in range(len(topicVectors)):\n",
    "    l = []\n",
    "    value = 0\n",
    "    for i in range(len(liedjesList)):\n",
    "        if value < document_topic_distance_matrix[i][j]: \n",
    "            value = document_topic_distance_matrix[i][j]\n",
    "            maxdoc = i\n",
    "    print('---------')\n",
    "    print('topic: ', j)\n",
    "    print('aantal terms vd topic :', len(topicList[j]))\n",
    "    print('belangrijkste liedje  :', maxdoc)\n",
    "    print('afstand topic-liedje  :', value)\n",
    "    print('vector topic-liedje   :', document_topic_distance_matrix[maxdoc])\n",
    "\n"
   ]
  },
  {
   "cell_type": "code",
   "execution_count": null,
   "metadata": {},
   "outputs": [],
   "source": []
  }
 ],
 "metadata": {
  "kernelspec": {
   "display_name": "Python 3.6.9 64-bit",
   "language": "python",
   "name": "python3"
  },
  "language_info": {
   "codemirror_mode": {
    "name": "ipython",
    "version": 3
   },
   "file_extension": ".py",
   "mimetype": "text/x-python",
   "name": "python",
   "nbconvert_exporter": "python",
   "pygments_lexer": "ipython3",
   "version": "3.6.9"
  },
  "orig_nbformat": 4,
  "vscode": {
   "interpreter": {
    "hash": "31f2aee4e71d21fbe5cf8b01ff0e069b9275f58929596ceb00d14d90e3e16cd6"
   }
  }
 },
 "nbformat": 4,
 "nbformat_minor": 2
}
